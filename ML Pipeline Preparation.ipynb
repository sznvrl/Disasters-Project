{
 "cells": [
  {
   "cell_type": "markdown",
   "metadata": {},
   "source": [
    "# ML Pipeline Preparation\n",
    "Follow the instructions below to help you create your ML pipeline.\n",
    "### 1. Import libraries and load data from database.\n",
    "- Import Python libraries\n",
    "- Load dataset from database with [`read_sql_table`](https://pandas.pydata.org/pandas-docs/stable/generated/pandas.read_sql_table.html)\n",
    "- Define feature and target variables X and Y"
   ]
  },
  {
   "cell_type": "code",
   "execution_count": 1,
   "metadata": {},
   "outputs": [
    {
     "name": "stdout",
     "output_type": "stream",
     "text": [
      "[nltk_data] Downloading package punkt to /root/nltk_data...\n",
      "[nltk_data]   Unzipping tokenizers/punkt.zip.\n",
      "[nltk_data] Downloading package wordnet to /root/nltk_data...\n",
      "[nltk_data]   Unzipping corpora/wordnet.zip.\n",
      "[nltk_data] Downloading package stopwords to /root/nltk_data...\n",
      "[nltk_data]   Unzipping corpora/stopwords.zip.\n"
     ]
    },
    {
     "data": {
      "text/html": [
       "<script>requirejs.config({paths: { 'plotly': ['https://cdn.plot.ly/plotly-latest.min']},});if(!window.Plotly) {{require(['plotly'],function(plotly) {window.Plotly=plotly;});}}</script>"
      ],
      "text/vnd.plotly.v1+html": [
       "<script>requirejs.config({paths: { 'plotly': ['https://cdn.plot.ly/plotly-latest.min']},});if(!window.Plotly) {{require(['plotly'],function(plotly) {window.Plotly=plotly;});}}</script>"
      ]
     },
     "metadata": {},
     "output_type": "display_data"
    }
   ],
   "source": [
    "# import libraries\n",
    "import numpy as np\n",
    "import pandas as pd\n",
    "from sqlalchemy import create_engine\n",
    "import nltk\n",
    "import re\n",
    "import string\n",
    "nltk.download(['punkt', 'wordnet', 'stopwords'])\n",
    "\n",
    "import seaborn as sns\n",
    "import matplotlib.pyplot as plt\n",
    "import plotly.figure_factory as ff\n",
    "import plotly.graph_objs as go\n",
    "import plotly.offline as py\n",
    "py.init_notebook_mode(connected=True)\n",
    "from IPython.display import display, HTML"
   ]
  },
  {
   "cell_type": "code",
   "execution_count": 2,
   "metadata": {},
   "outputs": [],
   "source": [
    "# load data from database\n",
    "engine = create_engine('sqlite:///DisasterResponse.db')\n",
    "df = pd.read_sql_table('messages_label', engine)"
   ]
  },
  {
   "cell_type": "code",
   "execution_count": 3,
   "metadata": {},
   "outputs": [
    {
     "data": {
      "text/html": [
       "<div>\n",
       "<style scoped>\n",
       "    .dataframe tbody tr th:only-of-type {\n",
       "        vertical-align: middle;\n",
       "    }\n",
       "\n",
       "    .dataframe tbody tr th {\n",
       "        vertical-align: top;\n",
       "    }\n",
       "\n",
       "    .dataframe thead th {\n",
       "        text-align: right;\n",
       "    }\n",
       "</style>\n",
       "<table border=\"1\" class=\"dataframe\">\n",
       "  <thead>\n",
       "    <tr style=\"text-align: right;\">\n",
       "      <th></th>\n",
       "      <th>id</th>\n",
       "      <th>message</th>\n",
       "      <th>original</th>\n",
       "      <th>genre</th>\n",
       "      <th>related</th>\n",
       "      <th>request</th>\n",
       "      <th>offer</th>\n",
       "      <th>aid_related</th>\n",
       "      <th>medical_help</th>\n",
       "      <th>medical_products</th>\n",
       "      <th>...</th>\n",
       "      <th>aid_centers</th>\n",
       "      <th>other_infrastructure</th>\n",
       "      <th>weather_related</th>\n",
       "      <th>floods</th>\n",
       "      <th>storm</th>\n",
       "      <th>fire</th>\n",
       "      <th>earthquake</th>\n",
       "      <th>cold</th>\n",
       "      <th>other_weather</th>\n",
       "      <th>direct_report</th>\n",
       "    </tr>\n",
       "  </thead>\n",
       "  <tbody>\n",
       "    <tr>\n",
       "      <th>0</th>\n",
       "      <td>2</td>\n",
       "      <td>Weather update - a cold front from Cuba that c...</td>\n",
       "      <td>Un front froid se retrouve sur Cuba ce matin. ...</td>\n",
       "      <td>direct</td>\n",
       "      <td>1.0</td>\n",
       "      <td>0.0</td>\n",
       "      <td>0.0</td>\n",
       "      <td>0.0</td>\n",
       "      <td>0.0</td>\n",
       "      <td>0.0</td>\n",
       "      <td>...</td>\n",
       "      <td>0.0</td>\n",
       "      <td>0.0</td>\n",
       "      <td>0.0</td>\n",
       "      <td>0.0</td>\n",
       "      <td>0.0</td>\n",
       "      <td>0.0</td>\n",
       "      <td>0.0</td>\n",
       "      <td>0.0</td>\n",
       "      <td>0.0</td>\n",
       "      <td>0.0</td>\n",
       "    </tr>\n",
       "    <tr>\n",
       "      <th>1</th>\n",
       "      <td>7</td>\n",
       "      <td>Is the Hurricane over or is it not over</td>\n",
       "      <td>Cyclone nan fini osinon li pa fini</td>\n",
       "      <td>direct</td>\n",
       "      <td>1.0</td>\n",
       "      <td>0.0</td>\n",
       "      <td>0.0</td>\n",
       "      <td>1.0</td>\n",
       "      <td>0.0</td>\n",
       "      <td>0.0</td>\n",
       "      <td>...</td>\n",
       "      <td>0.0</td>\n",
       "      <td>0.0</td>\n",
       "      <td>1.0</td>\n",
       "      <td>0.0</td>\n",
       "      <td>1.0</td>\n",
       "      <td>0.0</td>\n",
       "      <td>0.0</td>\n",
       "      <td>0.0</td>\n",
       "      <td>0.0</td>\n",
       "      <td>0.0</td>\n",
       "    </tr>\n",
       "    <tr>\n",
       "      <th>2</th>\n",
       "      <td>8</td>\n",
       "      <td>Looking for someone but no name</td>\n",
       "      <td>Patnm, di Maryani relem pou li banm nouvel li ...</td>\n",
       "      <td>direct</td>\n",
       "      <td>1.0</td>\n",
       "      <td>0.0</td>\n",
       "      <td>0.0</td>\n",
       "      <td>0.0</td>\n",
       "      <td>0.0</td>\n",
       "      <td>0.0</td>\n",
       "      <td>...</td>\n",
       "      <td>0.0</td>\n",
       "      <td>0.0</td>\n",
       "      <td>0.0</td>\n",
       "      <td>0.0</td>\n",
       "      <td>0.0</td>\n",
       "      <td>0.0</td>\n",
       "      <td>0.0</td>\n",
       "      <td>0.0</td>\n",
       "      <td>0.0</td>\n",
       "      <td>0.0</td>\n",
       "    </tr>\n",
       "    <tr>\n",
       "      <th>3</th>\n",
       "      <td>9</td>\n",
       "      <td>UN reports Leogane 80-90 destroyed. Only Hospi...</td>\n",
       "      <td>UN reports Leogane 80-90 destroyed. Only Hospi...</td>\n",
       "      <td>direct</td>\n",
       "      <td>1.0</td>\n",
       "      <td>1.0</td>\n",
       "      <td>0.0</td>\n",
       "      <td>1.0</td>\n",
       "      <td>0.0</td>\n",
       "      <td>1.0</td>\n",
       "      <td>...</td>\n",
       "      <td>0.0</td>\n",
       "      <td>0.0</td>\n",
       "      <td>0.0</td>\n",
       "      <td>0.0</td>\n",
       "      <td>0.0</td>\n",
       "      <td>0.0</td>\n",
       "      <td>0.0</td>\n",
       "      <td>0.0</td>\n",
       "      <td>0.0</td>\n",
       "      <td>0.0</td>\n",
       "    </tr>\n",
       "    <tr>\n",
       "      <th>4</th>\n",
       "      <td>12</td>\n",
       "      <td>says: west side of Haiti, rest of the country ...</td>\n",
       "      <td>facade ouest d Haiti et le reste du pays aujou...</td>\n",
       "      <td>direct</td>\n",
       "      <td>1.0</td>\n",
       "      <td>0.0</td>\n",
       "      <td>0.0</td>\n",
       "      <td>0.0</td>\n",
       "      <td>0.0</td>\n",
       "      <td>0.0</td>\n",
       "      <td>...</td>\n",
       "      <td>0.0</td>\n",
       "      <td>0.0</td>\n",
       "      <td>0.0</td>\n",
       "      <td>0.0</td>\n",
       "      <td>0.0</td>\n",
       "      <td>0.0</td>\n",
       "      <td>0.0</td>\n",
       "      <td>0.0</td>\n",
       "      <td>0.0</td>\n",
       "      <td>0.0</td>\n",
       "    </tr>\n",
       "  </tbody>\n",
       "</table>\n",
       "<p>5 rows × 40 columns</p>\n",
       "</div>"
      ],
      "text/plain": [
       "   id                                            message  \\\n",
       "0   2  Weather update - a cold front from Cuba that c...   \n",
       "1   7            Is the Hurricane over or is it not over   \n",
       "2   8                    Looking for someone but no name   \n",
       "3   9  UN reports Leogane 80-90 destroyed. Only Hospi...   \n",
       "4  12  says: west side of Haiti, rest of the country ...   \n",
       "\n",
       "                                            original   genre  related  \\\n",
       "0  Un front froid se retrouve sur Cuba ce matin. ...  direct      1.0   \n",
       "1                 Cyclone nan fini osinon li pa fini  direct      1.0   \n",
       "2  Patnm, di Maryani relem pou li banm nouvel li ...  direct      1.0   \n",
       "3  UN reports Leogane 80-90 destroyed. Only Hospi...  direct      1.0   \n",
       "4  facade ouest d Haiti et le reste du pays aujou...  direct      1.0   \n",
       "\n",
       "   request  offer  aid_related  medical_help  medical_products      ...        \\\n",
       "0      0.0    0.0          0.0           0.0               0.0      ...         \n",
       "1      0.0    0.0          1.0           0.0               0.0      ...         \n",
       "2      0.0    0.0          0.0           0.0               0.0      ...         \n",
       "3      1.0    0.0          1.0           0.0               1.0      ...         \n",
       "4      0.0    0.0          0.0           0.0               0.0      ...         \n",
       "\n",
       "   aid_centers  other_infrastructure  weather_related  floods  storm  fire  \\\n",
       "0          0.0                   0.0              0.0     0.0    0.0   0.0   \n",
       "1          0.0                   0.0              1.0     0.0    1.0   0.0   \n",
       "2          0.0                   0.0              0.0     0.0    0.0   0.0   \n",
       "3          0.0                   0.0              0.0     0.0    0.0   0.0   \n",
       "4          0.0                   0.0              0.0     0.0    0.0   0.0   \n",
       "\n",
       "   earthquake  cold  other_weather  direct_report  \n",
       "0         0.0   0.0            0.0            0.0  \n",
       "1         0.0   0.0            0.0            0.0  \n",
       "2         0.0   0.0            0.0            0.0  \n",
       "3         0.0   0.0            0.0            0.0  \n",
       "4         0.0   0.0            0.0            0.0  \n",
       "\n",
       "[5 rows x 40 columns]"
      ]
     },
     "execution_count": 3,
     "metadata": {},
     "output_type": "execute_result"
    }
   ],
   "source": [
    "df.head()"
   ]
  },
  {
   "cell_type": "code",
   "execution_count": 4,
   "metadata": {},
   "outputs": [],
   "source": [
    "#determine X and Y dataset\n",
    "X = df['message']\n",
    "Y = df.drop(['id', 'message', 'original', 'genre'], axis=1)\n",
    "columns_names = Y.columns.tolist()"
   ]
  },
  {
   "cell_type": "markdown",
   "metadata": {},
   "source": [
    "### 2. Write a tokenization function to process your text data"
   ]
  },
  {
   "cell_type": "code",
   "execution_count": 5,
   "metadata": {},
   "outputs": [],
   "source": [
    "import nltk\n",
    "from nltk.tokenize import word_tokenize\n",
    "from nltk.stem import WordNetLemmatizer \n",
    "# Init the Wordnet Lemmatizer\n",
    "lemmatizer = WordNetLemmatizer()"
   ]
  },
  {
   "cell_type": "code",
   "execution_count": 6,
   "metadata": {},
   "outputs": [
    {
     "name": "stdout",
     "output_type": "stream",
     "text": [
      "!\"#$%&'()*+,-./:;<=>?@[\\]^_`{|}~\n"
     ]
    }
   ],
   "source": [
    "#check punctuation\n",
    "remove_punc = str.maketrans('', '', string.punctuation)\n",
    "print(string.punctuation)"
   ]
  },
  {
   "cell_type": "code",
   "execution_count": 7,
   "metadata": {},
   "outputs": [
    {
     "name": "stdout",
     "output_type": "stream",
     "text": [
      "['i', 'me', 'my', 'myself', 'we', 'our', 'ours', 'ourselves', 'you', \"you're\", \"you've\", \"you'll\", \"you'd\", 'your', 'yours', 'yourself', 'yourselves', 'he', 'him', 'his', 'himself', 'she', \"she's\", 'her', 'hers', 'herself', 'it', \"it's\", 'its', 'itself', 'they', 'them', 'their', 'theirs', 'themselves', 'what', 'which', 'who', 'whom', 'this', 'that', \"that'll\", 'these', 'those', 'am', 'is', 'are', 'was', 'were', 'be', 'been', 'being', 'have', 'has', 'had', 'having', 'do', 'does', 'did', 'doing', 'a', 'an', 'the', 'and', 'but', 'if', 'or', 'because', 'as', 'until', 'while', 'of', 'at', 'by', 'for', 'with', 'about', 'against', 'between', 'into', 'through', 'during', 'before', 'after', 'above', 'below', 'to', 'from', 'up', 'down', 'in', 'out', 'on', 'off', 'over', 'under', 'again', 'further', 'then', 'once', 'here', 'there', 'when', 'where', 'why', 'how', 'all', 'any', 'both', 'each', 'few', 'more', 'most', 'other', 'some', 'such', 'no', 'nor', 'not', 'only', 'own', 'same', 'so', 'than', 'too', 'very', 's', 't', 'can', 'will', 'just', 'don', \"don't\", 'should', \"should've\", 'now', 'd', 'll', 'm', 'o', 're', 've', 'y', 'ain', 'aren', \"aren't\", 'couldn', \"couldn't\", 'didn', \"didn't\", 'doesn', \"doesn't\", 'hadn', \"hadn't\", 'hasn', \"hasn't\", 'haven', \"haven't\", 'isn', \"isn't\", 'ma', 'mightn', \"mightn't\", 'mustn', \"mustn't\", 'needn', \"needn't\", 'shan', \"shan't\", 'shouldn', \"shouldn't\", 'wasn', \"wasn't\", 'weren', \"weren't\", 'won', \"won't\", 'wouldn', \"wouldn't\"]\n"
     ]
    }
   ],
   "source": [
    "#check stopwords \n",
    "from nltk.corpus import stopwords\n",
    "print(stopwords.words('english'))"
   ]
  },
  {
   "cell_type": "code",
   "execution_count": 8,
   "metadata": {},
   "outputs": [],
   "source": [
    "stop_words = nltk.corpus.stopwords.words(\"english\")\n",
    "lemmatizer = nltk.stem.wordnet.WordNetLemmatizer()\n",
    "remove_punc_table = str.maketrans('', '', string.punctuation)"
   ]
  },
  {
   "cell_type": "code",
   "execution_count": 9,
   "metadata": {},
   "outputs": [],
   "source": [
    "def tokenize(text):\n",
    "    \n",
    "    \"\"\"\n",
    "    tokenize text\n",
    "    \n",
    "    Parameters:\n",
    "    text: Give text which is tokenized\n",
    "    \n",
    "    Returns:\n",
    "    word: text split to word\n",
    "    \n",
    "    \"\"\"\n",
    "    #remove punctuation\n",
    "    text = text.translate(remove_punc_table).lower()\n",
    "    \n",
    "    # tokenize text\n",
    "    tokens = nltk.word_tokenize(text)\n",
    "    \n",
    "    # lemmatize and remove stop words\n",
    "    return [lemmatizer.lemmatize(word) for word in tokens if word not in stop_words]"
   ]
  },
  {
   "cell_type": "markdown",
   "metadata": {},
   "source": [
    "Source: https://machinelearningmastery.com/clean-text-machine-learning-python/"
   ]
  },
  {
   "cell_type": "markdown",
   "metadata": {},
   "source": [
    "### 3. Build a machine learning pipeline\n",
    "This machine pipeline should take in the `message` column as input and output classification results on the other 36 categories in the dataset. You may find the [MultiOutputClassifier](http://scikit-learn.org/stable/modules/generated/sklearn.multioutput.MultiOutputClassifier.html) helpful for predicting multiple target variables."
   ]
  },
  {
   "cell_type": "code",
   "execution_count": 10,
   "metadata": {},
   "outputs": [],
   "source": [
    "from sklearn.datasets import make_multilabel_classification\n",
    "from sklearn.multioutput import MultiOutputClassifier\n",
    "from sklearn.neighbors import KNeighborsClassifier\n",
    "from sklearn.feature_extraction.text import CountVectorizer\n",
    "from sklearn.feature_extraction.text import CountVectorizer\n",
    "from sklearn.ensemble import RandomForestClassifier\n",
    "from sklearn.feature_extraction.text import CountVectorizer, TfidfTransformer\n",
    "from sklearn.pipeline import Pipeline\n",
    "from sklearn.feature_extraction.text import TfidfVectorizer"
   ]
  },
  {
   "cell_type": "code",
   "execution_count": 11,
   "metadata": {},
   "outputs": [],
   "source": [
    "pipeline = Pipeline([\n",
    "                    ('tfidf', TfidfVectorizer(tokenizer=tokenize)),\n",
    "                    ('clf', MultiOutputClassifier(RandomForestClassifier()))\n",
    "                    ])"
   ]
  },
  {
   "cell_type": "markdown",
   "metadata": {},
   "source": [
    "I checked pipeline ;\n",
    "https://scikit-learn.org/stable/modules/generated/sklearn.pipeline.Pipeline.html"
   ]
  },
  {
   "cell_type": "markdown",
   "metadata": {},
   "source": [
    "### 4. Train pipeline\n",
    "- Split data into train and test sets\n",
    "- Train pipeline"
   ]
  },
  {
   "cell_type": "code",
   "execution_count": 12,
   "metadata": {},
   "outputs": [],
   "source": [
    "from sklearn.model_selection import train_test_split"
   ]
  },
  {
   "cell_type": "code",
   "execution_count": 13,
   "metadata": {},
   "outputs": [],
   "source": [
    "#split data set to two subset ; train and test\n",
    "X_train, X_test, y_train, y_test = train_test_split(X, Y, random_state=42)"
   ]
  },
  {
   "cell_type": "code",
   "execution_count": 14,
   "metadata": {},
   "outputs": [
    {
     "data": {
      "text/plain": [
       "19699    He blames deforestation - whether it is from i...\n",
       "5728     I would like to know what to do to get a job, ...\n",
       "14041    In addition to food shortages, health problems...\n",
       "3576                    I'm a survivor and a student in.. \n",
       "9578     Some body tell me plateau central won't hit by...\n",
       "Name: message, dtype: object"
      ]
     },
     "execution_count": 14,
     "metadata": {},
     "output_type": "execute_result"
    }
   ],
   "source": [
    "X_train.head()"
   ]
  },
  {
   "cell_type": "code",
   "execution_count": 15,
   "metadata": {},
   "outputs": [],
   "source": [
    "#create model\n",
    "model=pipeline.fit(X_train, y_train)"
   ]
  },
  {
   "cell_type": "markdown",
   "metadata": {},
   "source": [
    "### 5. Test your model\n",
    "Report the f1 score, precision and recall for each output category of the dataset. You can do this by iterating through the columns and calling sklearn's `classification_report` on each."
   ]
  },
  {
   "cell_type": "code",
   "execution_count": 16,
   "metadata": {},
   "outputs": [],
   "source": [
    "from sklearn.metrics import classification_report\n",
    "from sklearn.metrics import precision_recall_fscore_support\n",
    "from sklearn.metrics import f1_score\n",
    "from sklearn.metrics import recall_score\n",
    "from sklearn.metrics import precision_score\n",
    "from sklearn.metrics import accuracy_score"
   ]
  },
  {
   "cell_type": "code",
   "execution_count": 17,
   "metadata": {},
   "outputs": [
    {
     "data": {
      "text/plain": [
       "0.14070660522273426"
      ]
     },
     "execution_count": 17,
     "metadata": {},
     "output_type": "execute_result"
    }
   ],
   "source": [
    "#find model's score\n",
    "pipeline.score(X_test, y_test)"
   ]
  },
  {
   "cell_type": "code",
   "execution_count": 18,
   "metadata": {},
   "outputs": [],
   "source": [
    "#find estimation results for test and train set\n",
    "y_test_est = pipeline.predict(X_test)\n",
    "y_train_est = pipeline.predict(X_train)"
   ]
  },
  {
   "cell_type": "markdown",
   "metadata": {},
   "source": [
    "I find f1_score, recall, precision and accuracy for test set."
   ]
  },
  {
   "cell_type": "code",
   "execution_count": 19,
   "metadata": {},
   "outputs": [
    {
     "name": "stderr",
     "output_type": "stream",
     "text": [
      "/opt/conda/lib/python3.6/site-packages/sklearn/metrics/classification.py:1135: UndefinedMetricWarning:\n",
      "\n",
      "F-score is ill-defined and being set to 0.0 in labels with no predicted samples.\n",
      "\n",
      "/opt/conda/lib/python3.6/site-packages/sklearn/metrics/classification.py:1137: UndefinedMetricWarning:\n",
      "\n",
      "F-score is ill-defined and being set to 0.0 in labels with no true samples.\n",
      "\n",
      "/opt/conda/lib/python3.6/site-packages/sklearn/metrics/classification.py:1137: UndefinedMetricWarning:\n",
      "\n",
      "Recall is ill-defined and being set to 0.0 in labels with no true samples.\n",
      "\n",
      "/opt/conda/lib/python3.6/site-packages/sklearn/metrics/classification.py:1135: UndefinedMetricWarning:\n",
      "\n",
      "Precision is ill-defined and being set to 0.0 in labels with no predicted samples.\n",
      "\n"
     ]
    }
   ],
   "source": [
    "#According to test result calculate f1, recall and precision\n",
    "f1_test=f1_score(y_test, y_test_est, average=None)\n",
    "f1_df= pd.DataFrame(f1_test,index= Y.columns, columns=[\"f1_score\"]).sort_values(by=\"f1_score\", \n",
    "                                                                                ascending=False)\n",
    "\n",
    "recall_test= recall_score(y_test, y_test_est, average=None)\n",
    "recall_df= pd.DataFrame(recall_test,index= Y.columns, columns=[\"recall_score\"]).sort_values(by=\"recall_score\",\n",
    "                                                                                              ascending=False)\n",
    "\n",
    "precision_test= precision_score(y_test, y_test_est, average=None)\n",
    "precision_df= pd.DataFrame(precision_test,index= Y.columns, columns=[\"precision_score\"]).sort_values(by=\"precision_score\",\n",
    "                                                                                              ascending=False)\n"
   ]
  },
  {
   "cell_type": "code",
   "execution_count": 20,
   "metadata": {},
   "outputs": [
    {
     "name": "stderr",
     "output_type": "stream",
     "text": [
      "/opt/conda/lib/python3.6/site-packages/sklearn/metrics/classification.py:1135: UndefinedMetricWarning:\n",
      "\n",
      "F-score is ill-defined and being set to 0.0 in labels with no predicted samples.\n",
      "\n",
      "/opt/conda/lib/python3.6/site-packages/sklearn/metrics/classification.py:1137: UndefinedMetricWarning:\n",
      "\n",
      "F-score is ill-defined and being set to 0.0 in labels with no true samples.\n",
      "\n",
      "/opt/conda/lib/python3.6/site-packages/sklearn/metrics/classification.py:1137: UndefinedMetricWarning:\n",
      "\n",
      "Recall is ill-defined and being set to 0.0 in labels with no true samples.\n",
      "\n",
      "/opt/conda/lib/python3.6/site-packages/sklearn/metrics/classification.py:1135: UndefinedMetricWarning:\n",
      "\n",
      "Precision is ill-defined and being set to 0.0 in labels with no predicted samples.\n",
      "\n"
     ]
    }
   ],
   "source": [
    "#According to train set calculate f1, recall and precision\n",
    "f1_train=f1_score(y_train, y_train_est, average=None)\n",
    "f1_df_train= pd.DataFrame(f1_train,index= Y.columns, columns=[\"f1_score\"]).sort_values(by=\"f1_score\", \n",
    "                                                                                ascending=False)\n",
    "\n",
    "recall_train= recall_score(y_train, y_train_est, average=None)\n",
    "recall_df_train= pd.DataFrame(recall_train,index= Y.columns, columns=[\"recall_score\"]).sort_values(by=\"recall_score\",\n",
    "                                                                                              ascending=False)\n",
    "\n",
    "precision_train= precision_score(y_train_est, y_train_est, average=None)\n",
    "precision_df_train= pd.DataFrame(precision_train ,index= Y.columns, columns=[\"precision_score\"]).sort_values(by=\"precision_score\",\n",
    "                                                                                              ascending=False)"
   ]
  },
  {
   "cell_type": "code",
   "execution_count": 21,
   "metadata": {},
   "outputs": [],
   "source": [
    "#concat f1 score, recall and precision dataset\n",
    "result_test = pd.concat([f1_df, recall_df, precision_df], axis=1, sort=False)"
   ]
  },
  {
   "cell_type": "code",
   "execution_count": 22,
   "metadata": {},
   "outputs": [
    {
     "data": {
      "text/html": [
       "<div>\n",
       "<style scoped>\n",
       "    .dataframe tbody tr th:only-of-type {\n",
       "        vertical-align: middle;\n",
       "    }\n",
       "\n",
       "    .dataframe tbody tr th {\n",
       "        vertical-align: top;\n",
       "    }\n",
       "\n",
       "    .dataframe thead th {\n",
       "        text-align: right;\n",
       "    }\n",
       "</style>\n",
       "<table border=\"1\" class=\"dataframe\">\n",
       "  <thead>\n",
       "    <tr style=\"text-align: right;\">\n",
       "      <th></th>\n",
       "      <th>f1_score</th>\n",
       "      <th>recall_score</th>\n",
       "      <th>precision_score</th>\n",
       "    </tr>\n",
       "  </thead>\n",
       "  <tbody>\n",
       "    <tr>\n",
       "      <th>related</th>\n",
       "      <td>0.832762</td>\n",
       "      <td>0.911377</td>\n",
       "      <td>0.766633</td>\n",
       "    </tr>\n",
       "    <tr>\n",
       "      <th>aid_related</th>\n",
       "      <td>0.280905</td>\n",
       "      <td>0.209520</td>\n",
       "      <td>0.426067</td>\n",
       "    </tr>\n",
       "    <tr>\n",
       "      <th>weather_related</th>\n",
       "      <td>0.261258</td>\n",
       "      <td>0.178097</td>\n",
       "      <td>0.490107</td>\n",
       "    </tr>\n",
       "    <tr>\n",
       "      <th>earthquake</th>\n",
       "      <td>0.246433</td>\n",
       "      <td>0.154221</td>\n",
       "      <td>0.612903</td>\n",
       "    </tr>\n",
       "    <tr>\n",
       "      <th>request</th>\n",
       "      <td>0.120000</td>\n",
       "      <td>0.071178</td>\n",
       "      <td>0.382075</td>\n",
       "    </tr>\n",
       "    <tr>\n",
       "      <th>direct_report</th>\n",
       "      <td>0.117647</td>\n",
       "      <td>0.070093</td>\n",
       "      <td>0.365854</td>\n",
       "    </tr>\n",
       "    <tr>\n",
       "      <th>storm</th>\n",
       "      <td>0.072180</td>\n",
       "      <td>0.040134</td>\n",
       "      <td>0.358209</td>\n",
       "    </tr>\n",
       "    <tr>\n",
       "      <th>other_aid</th>\n",
       "      <td>0.031250</td>\n",
       "      <td>0.017585</td>\n",
       "      <td>0.140187</td>\n",
       "    </tr>\n",
       "    <tr>\n",
       "      <th>hospitals</th>\n",
       "      <td>0.027027</td>\n",
       "      <td>0.013889</td>\n",
       "      <td>0.500000</td>\n",
       "    </tr>\n",
       "    <tr>\n",
       "      <th>food</th>\n",
       "      <td>0.025773</td>\n",
       "      <td>0.013774</td>\n",
       "      <td>0.200000</td>\n",
       "    </tr>\n",
       "    <tr>\n",
       "      <th>medical_help</th>\n",
       "      <td>0.024955</td>\n",
       "      <td>0.013807</td>\n",
       "      <td>0.129630</td>\n",
       "    </tr>\n",
       "    <tr>\n",
       "      <th>floods</th>\n",
       "      <td>0.024823</td>\n",
       "      <td>0.013084</td>\n",
       "      <td>0.241379</td>\n",
       "    </tr>\n",
       "    <tr>\n",
       "      <th>water</th>\n",
       "      <td>0.022989</td>\n",
       "      <td>0.012136</td>\n",
       "      <td>0.217391</td>\n",
       "    </tr>\n",
       "    <tr>\n",
       "      <th>buildings</th>\n",
       "      <td>0.017647</td>\n",
       "      <td>0.009434</td>\n",
       "      <td>0.136364</td>\n",
       "    </tr>\n",
       "    <tr>\n",
       "      <th>death</th>\n",
       "      <td>0.013841</td>\n",
       "      <td>0.007168</td>\n",
       "      <td>0.200000</td>\n",
       "    </tr>\n",
       "    <tr>\n",
       "      <th>infrastructure_related</th>\n",
       "      <td>0.013393</td>\n",
       "      <td>0.007299</td>\n",
       "      <td>0.081081</td>\n",
       "    </tr>\n",
       "    <tr>\n",
       "      <th>shelter</th>\n",
       "      <td>0.012739</td>\n",
       "      <td>0.006838</td>\n",
       "      <td>0.093023</td>\n",
       "    </tr>\n",
       "    <tr>\n",
       "      <th>refugees</th>\n",
       "      <td>0.008969</td>\n",
       "      <td>0.004673</td>\n",
       "      <td>0.111111</td>\n",
       "    </tr>\n",
       "    <tr>\n",
       "      <th>other_infrastructure</th>\n",
       "      <td>0.006849</td>\n",
       "      <td>0.003597</td>\n",
       "      <td>0.071429</td>\n",
       "    </tr>\n",
       "    <tr>\n",
       "      <th>medical_products</th>\n",
       "      <td>0.005935</td>\n",
       "      <td>0.003058</td>\n",
       "      <td>0.100000</td>\n",
       "    </tr>\n",
       "    <tr>\n",
       "      <th>money</th>\n",
       "      <td>0.000000</td>\n",
       "      <td>0.000000</td>\n",
       "      <td>0.000000</td>\n",
       "    </tr>\n",
       "    <tr>\n",
       "      <th>other_weather</th>\n",
       "      <td>0.000000</td>\n",
       "      <td>0.000000</td>\n",
       "      <td>0.000000</td>\n",
       "    </tr>\n",
       "    <tr>\n",
       "      <th>cold</th>\n",
       "      <td>0.000000</td>\n",
       "      <td>0.000000</td>\n",
       "      <td>0.000000</td>\n",
       "    </tr>\n",
       "    <tr>\n",
       "      <th>offer</th>\n",
       "      <td>0.000000</td>\n",
       "      <td>0.000000</td>\n",
       "      <td>0.000000</td>\n",
       "    </tr>\n",
       "    <tr>\n",
       "      <th>fire</th>\n",
       "      <td>0.000000</td>\n",
       "      <td>0.000000</td>\n",
       "      <td>0.000000</td>\n",
       "    </tr>\n",
       "    <tr>\n",
       "      <th>military</th>\n",
       "      <td>0.000000</td>\n",
       "      <td>0.000000</td>\n",
       "      <td>0.000000</td>\n",
       "    </tr>\n",
       "    <tr>\n",
       "      <th>child_alone</th>\n",
       "      <td>0.000000</td>\n",
       "      <td>0.000000</td>\n",
       "      <td>0.000000</td>\n",
       "    </tr>\n",
       "    <tr>\n",
       "      <th>shops</th>\n",
       "      <td>0.000000</td>\n",
       "      <td>0.000000</td>\n",
       "      <td>0.000000</td>\n",
       "    </tr>\n",
       "    <tr>\n",
       "      <th>aid_centers</th>\n",
       "      <td>0.000000</td>\n",
       "      <td>0.000000</td>\n",
       "      <td>0.000000</td>\n",
       "    </tr>\n",
       "    <tr>\n",
       "      <th>missing_people</th>\n",
       "      <td>0.000000</td>\n",
       "      <td>0.000000</td>\n",
       "      <td>0.000000</td>\n",
       "    </tr>\n",
       "    <tr>\n",
       "      <th>clothing</th>\n",
       "      <td>0.000000</td>\n",
       "      <td>0.000000</td>\n",
       "      <td>0.000000</td>\n",
       "    </tr>\n",
       "    <tr>\n",
       "      <th>tools</th>\n",
       "      <td>0.000000</td>\n",
       "      <td>0.000000</td>\n",
       "      <td>0.000000</td>\n",
       "    </tr>\n",
       "    <tr>\n",
       "      <th>electricity</th>\n",
       "      <td>0.000000</td>\n",
       "      <td>0.000000</td>\n",
       "      <td>0.000000</td>\n",
       "    </tr>\n",
       "    <tr>\n",
       "      <th>security</th>\n",
       "      <td>0.000000</td>\n",
       "      <td>0.000000</td>\n",
       "      <td>0.000000</td>\n",
       "    </tr>\n",
       "    <tr>\n",
       "      <th>transport</th>\n",
       "      <td>0.000000</td>\n",
       "      <td>0.000000</td>\n",
       "      <td>0.000000</td>\n",
       "    </tr>\n",
       "    <tr>\n",
       "      <th>search_and_rescue</th>\n",
       "      <td>0.000000</td>\n",
       "      <td>0.000000</td>\n",
       "      <td>0.000000</td>\n",
       "    </tr>\n",
       "  </tbody>\n",
       "</table>\n",
       "</div>"
      ],
      "text/plain": [
       "                        f1_score  recall_score  precision_score\n",
       "related                 0.832762      0.911377         0.766633\n",
       "aid_related             0.280905      0.209520         0.426067\n",
       "weather_related         0.261258      0.178097         0.490107\n",
       "earthquake              0.246433      0.154221         0.612903\n",
       "request                 0.120000      0.071178         0.382075\n",
       "direct_report           0.117647      0.070093         0.365854\n",
       "storm                   0.072180      0.040134         0.358209\n",
       "other_aid               0.031250      0.017585         0.140187\n",
       "hospitals               0.027027      0.013889         0.500000\n",
       "food                    0.025773      0.013774         0.200000\n",
       "medical_help            0.024955      0.013807         0.129630\n",
       "floods                  0.024823      0.013084         0.241379\n",
       "water                   0.022989      0.012136         0.217391\n",
       "buildings               0.017647      0.009434         0.136364\n",
       "death                   0.013841      0.007168         0.200000\n",
       "infrastructure_related  0.013393      0.007299         0.081081\n",
       "shelter                 0.012739      0.006838         0.093023\n",
       "refugees                0.008969      0.004673         0.111111\n",
       "other_infrastructure    0.006849      0.003597         0.071429\n",
       "medical_products        0.005935      0.003058         0.100000\n",
       "money                   0.000000      0.000000         0.000000\n",
       "other_weather           0.000000      0.000000         0.000000\n",
       "cold                    0.000000      0.000000         0.000000\n",
       "offer                   0.000000      0.000000         0.000000\n",
       "fire                    0.000000      0.000000         0.000000\n",
       "military                0.000000      0.000000         0.000000\n",
       "child_alone             0.000000      0.000000         0.000000\n",
       "shops                   0.000000      0.000000         0.000000\n",
       "aid_centers             0.000000      0.000000         0.000000\n",
       "missing_people          0.000000      0.000000         0.000000\n",
       "clothing                0.000000      0.000000         0.000000\n",
       "tools                   0.000000      0.000000         0.000000\n",
       "electricity             0.000000      0.000000         0.000000\n",
       "security                0.000000      0.000000         0.000000\n",
       "transport               0.000000      0.000000         0.000000\n",
       "search_and_rescue       0.000000      0.000000         0.000000"
      ]
     },
     "execution_count": 22,
     "metadata": {},
     "output_type": "execute_result"
    }
   ],
   "source": [
    "#test result for each columns\n",
    "result_test"
   ]
  },
  {
   "cell_type": "markdown",
   "metadata": {},
   "source": [
    "  "
   ]
  },
  {
   "cell_type": "code",
   "execution_count": 23,
   "metadata": {},
   "outputs": [],
   "source": [
    "#graph for test/train results\n",
    "\n",
    "def graph(x,y, x_title, y_title):\n",
    "    \n",
    "    \"\"\"\n",
    "    grahp for evaluation metrics \n",
    "    \n",
    "    Parameters:\n",
    "    x= x axis values\n",
    "    y= y axis values\n",
    "    x_title= x axis title\n",
    "    y_title= y axis title\n",
    "    \n",
    "    Returns:\n",
    "    graph\n",
    "    \n",
    "\n",
    "    \"\"\"\n",
    "\n",
    "    data=[]\n",
    "    trace = go.Scatter(\n",
    "     x = x,\n",
    "     y = y,\n",
    "    mode = 'markers+lines',\n",
    "    marker = dict(\n",
    "        size = 10,\n",
    "        line = dict(\n",
    "            width = 1,\n",
    "            color = 'rgb(0, 0, 0)'\n",
    "            \n",
    "        )))\n",
    "\n",
    "    plot1 = [trace]\n",
    "    data=[trace]\n",
    "\n",
    "    layout = {\n",
    "      'xaxis': {'title': x_title},\n",
    "      'yaxis': {'title': y_title},\n",
    "      }\n",
    "    \n",
    "\n",
    "    return py.iplot({'data': data, \"layout\":layout})"
   ]
  },
  {
   "cell_type": "code",
   "execution_count": 24,
   "metadata": {},
   "outputs": [
    {
     "data": {
      "application/vnd.plotly.v1+json": {
       "data": [
        {
         "marker": {
          "line": {
           "color": "rgb(0, 0, 0)",
           "width": 1
          },
          "size": 10
         },
         "mode": "markers+lines",
         "type": "scatter",
         "x": [
          "related",
          "aid_related",
          "weather_related",
          "earthquake",
          "request",
          "direct_report",
          "storm",
          "other_aid",
          "hospitals",
          "food",
          "medical_help",
          "floods",
          "water",
          "buildings",
          "death",
          "infrastructure_related",
          "shelter",
          "refugees",
          "other_infrastructure",
          "medical_products",
          "money",
          "other_weather",
          "cold",
          "offer",
          "fire",
          "military",
          "child_alone",
          "shops",
          "aid_centers",
          "missing_people",
          "clothing",
          "tools",
          "electricity",
          "security",
          "transport",
          "search_and_rescue"
         ],
         "y": [
          0.8327619753543963,
          0.28090452261306537,
          0.2612576064908722,
          0.2464332036316472,
          0.12,
          0.1176470588235294,
          0.07218045112781955,
          0.03125,
          0.02702702702702703,
          0.02577319587628866,
          0.024955436720142603,
          0.02482269503546099,
          0.022988505747126436,
          0.01764705882352941,
          0.013840830449826988,
          0.013392857142857142,
          0.012738853503184712,
          0.008968609865470852,
          0.00684931506849315,
          0.005934718100890208,
          0,
          0,
          0,
          0,
          0,
          0,
          0,
          0,
          0,
          0,
          0,
          0,
          0,
          0,
          0,
          0
         ]
        }
       ],
       "layout": {
        "xaxis": {
         "title": "class"
        },
        "yaxis": {
         "title": "f1_score"
        }
       }
      },
      "text/html": [
       "<div id=\"759a64f8-29fa-45d1-81fd-130520f28129\" style=\"height: 525px; width: 100%;\" class=\"plotly-graph-div\"></div><script type=\"text/javascript\">require([\"plotly\"], function(Plotly) { window.PLOTLYENV=window.PLOTLYENV || {};window.PLOTLYENV.BASE_URL=\"https://plot.ly\";Plotly.newPlot(\"759a64f8-29fa-45d1-81fd-130520f28129\", [{\"type\": \"scatter\", \"x\": [\"related\", \"aid_related\", \"weather_related\", \"earthquake\", \"request\", \"direct_report\", \"storm\", \"other_aid\", \"hospitals\", \"food\", \"medical_help\", \"floods\", \"water\", \"buildings\", \"death\", \"infrastructure_related\", \"shelter\", \"refugees\", \"other_infrastructure\", \"medical_products\", \"money\", \"other_weather\", \"cold\", \"offer\", \"fire\", \"military\", \"child_alone\", \"shops\", \"aid_centers\", \"missing_people\", \"clothing\", \"tools\", \"electricity\", \"security\", \"transport\", \"search_and_rescue\"], \"y\": [0.8327619753543963, 0.28090452261306537, 0.2612576064908722, 0.2464332036316472, 0.12, 0.1176470588235294, 0.07218045112781955, 0.03125, 0.02702702702702703, 0.02577319587628866, 0.024955436720142603, 0.02482269503546099, 0.022988505747126436, 0.01764705882352941, 0.013840830449826988, 0.013392857142857142, 0.012738853503184712, 0.008968609865470852, 0.00684931506849315, 0.005934718100890208, 0.0, 0.0, 0.0, 0.0, 0.0, 0.0, 0.0, 0.0, 0.0, 0.0, 0.0, 0.0, 0.0, 0.0, 0.0, 0.0], \"mode\": \"markers+lines\", \"marker\": {\"size\": 10, \"line\": {\"width\": 1, \"color\": \"rgb(0, 0, 0)\"}}}], {\"xaxis\": {\"title\": \"class\"}, \"yaxis\": {\"title\": \"f1_score\"}}, {\"showLink\": true, \"linkText\": \"Export to plot.ly\"})});</script>"
      ],
      "text/vnd.plotly.v1+html": [
       "<div id=\"759a64f8-29fa-45d1-81fd-130520f28129\" style=\"height: 525px; width: 100%;\" class=\"plotly-graph-div\"></div><script type=\"text/javascript\">require([\"plotly\"], function(Plotly) { window.PLOTLYENV=window.PLOTLYENV || {};window.PLOTLYENV.BASE_URL=\"https://plot.ly\";Plotly.newPlot(\"759a64f8-29fa-45d1-81fd-130520f28129\", [{\"type\": \"scatter\", \"x\": [\"related\", \"aid_related\", \"weather_related\", \"earthquake\", \"request\", \"direct_report\", \"storm\", \"other_aid\", \"hospitals\", \"food\", \"medical_help\", \"floods\", \"water\", \"buildings\", \"death\", \"infrastructure_related\", \"shelter\", \"refugees\", \"other_infrastructure\", \"medical_products\", \"money\", \"other_weather\", \"cold\", \"offer\", \"fire\", \"military\", \"child_alone\", \"shops\", \"aid_centers\", \"missing_people\", \"clothing\", \"tools\", \"electricity\", \"security\", \"transport\", \"search_and_rescue\"], \"y\": [0.8327619753543963, 0.28090452261306537, 0.2612576064908722, 0.2464332036316472, 0.12, 0.1176470588235294, 0.07218045112781955, 0.03125, 0.02702702702702703, 0.02577319587628866, 0.024955436720142603, 0.02482269503546099, 0.022988505747126436, 0.01764705882352941, 0.013840830449826988, 0.013392857142857142, 0.012738853503184712, 0.008968609865470852, 0.00684931506849315, 0.005934718100890208, 0.0, 0.0, 0.0, 0.0, 0.0, 0.0, 0.0, 0.0, 0.0, 0.0, 0.0, 0.0, 0.0, 0.0, 0.0, 0.0], \"mode\": \"markers+lines\", \"marker\": {\"size\": 10, \"line\": {\"width\": 1, \"color\": \"rgb(0, 0, 0)\"}}}], {\"xaxis\": {\"title\": \"class\"}, \"yaxis\": {\"title\": \"f1_score\"}}, {\"showLink\": true, \"linkText\": \"Export to plot.ly\"})});</script>"
      ]
     },
     "metadata": {},
     "output_type": "display_data"
    }
   ],
   "source": [
    "#graph for f1 score \n",
    "x_title=\"class\"\n",
    "y_title=\"f1_score\"\n",
    "x=result_test.index\n",
    "y= result_test[\"f1_score\"]\n",
    "\n",
    "graph(x,y, x_title, y_title)"
   ]
  },
  {
   "cell_type": "code",
   "execution_count": 25,
   "metadata": {},
   "outputs": [
    {
     "data": {
      "application/vnd.plotly.v1+json": {
       "data": [
        {
         "marker": {
          "line": {
           "color": "rgb(0, 0, 0)",
           "width": 1
          },
          "size": 10
         },
         "mode": "markers+lines",
         "type": "scatter",
         "x": [
          "related",
          "aid_related",
          "weather_related",
          "earthquake",
          "request",
          "direct_report",
          "storm",
          "other_aid",
          "hospitals",
          "food",
          "medical_help",
          "floods",
          "water",
          "buildings",
          "death",
          "infrastructure_related",
          "shelter",
          "refugees",
          "other_infrastructure",
          "medical_products",
          "money",
          "other_weather",
          "cold",
          "offer",
          "fire",
          "military",
          "child_alone",
          "shops",
          "aid_centers",
          "missing_people",
          "clothing",
          "tools",
          "electricity",
          "security",
          "transport",
          "search_and_rescue"
         ],
         "y": [
          0.9113770026363821,
          0.20952023988005997,
          0.17809734513274336,
          0.15422077922077923,
          0.07117750439367311,
          0.07009345794392523,
          0.04013377926421405,
          0.017584994138335287,
          0.013888888888888888,
          0.013774104683195593,
          0.013806706114398421,
          0.013084112149532711,
          0.012135922330097087,
          0.009433962264150943,
          0.007168458781362007,
          0.0072992700729927005,
          0.006837606837606838,
          0.004672897196261682,
          0.0035971223021582736,
          0.0030581039755351682,
          0,
          0,
          0,
          0,
          0,
          0,
          0,
          0,
          0,
          0,
          0,
          0,
          0,
          0,
          0,
          0
         ]
        }
       ],
       "layout": {
        "xaxis": {
         "title": "class"
        },
        "yaxis": {
         "title": "recall"
        }
       }
      },
      "text/html": [
       "<div id=\"95065347-8c65-4f90-ad2f-637a9119bb51\" style=\"height: 525px; width: 100%;\" class=\"plotly-graph-div\"></div><script type=\"text/javascript\">require([\"plotly\"], function(Plotly) { window.PLOTLYENV=window.PLOTLYENV || {};window.PLOTLYENV.BASE_URL=\"https://plot.ly\";Plotly.newPlot(\"95065347-8c65-4f90-ad2f-637a9119bb51\", [{\"type\": \"scatter\", \"x\": [\"related\", \"aid_related\", \"weather_related\", \"earthquake\", \"request\", \"direct_report\", \"storm\", \"other_aid\", \"hospitals\", \"food\", \"medical_help\", \"floods\", \"water\", \"buildings\", \"death\", \"infrastructure_related\", \"shelter\", \"refugees\", \"other_infrastructure\", \"medical_products\", \"money\", \"other_weather\", \"cold\", \"offer\", \"fire\", \"military\", \"child_alone\", \"shops\", \"aid_centers\", \"missing_people\", \"clothing\", \"tools\", \"electricity\", \"security\", \"transport\", \"search_and_rescue\"], \"y\": [0.9113770026363821, 0.20952023988005997, 0.17809734513274336, 0.15422077922077923, 0.07117750439367311, 0.07009345794392523, 0.04013377926421405, 0.017584994138335287, 0.013888888888888888, 0.013774104683195593, 0.013806706114398421, 0.013084112149532711, 0.012135922330097087, 0.009433962264150943, 0.007168458781362007, 0.0072992700729927005, 0.006837606837606838, 0.004672897196261682, 0.0035971223021582736, 0.0030581039755351682, 0.0, 0.0, 0.0, 0.0, 0.0, 0.0, 0.0, 0.0, 0.0, 0.0, 0.0, 0.0, 0.0, 0.0, 0.0, 0.0], \"mode\": \"markers+lines\", \"marker\": {\"size\": 10, \"line\": {\"width\": 1, \"color\": \"rgb(0, 0, 0)\"}}}], {\"xaxis\": {\"title\": \"class\"}, \"yaxis\": {\"title\": \"recall\"}}, {\"showLink\": true, \"linkText\": \"Export to plot.ly\"})});</script>"
      ],
      "text/vnd.plotly.v1+html": [
       "<div id=\"95065347-8c65-4f90-ad2f-637a9119bb51\" style=\"height: 525px; width: 100%;\" class=\"plotly-graph-div\"></div><script type=\"text/javascript\">require([\"plotly\"], function(Plotly) { window.PLOTLYENV=window.PLOTLYENV || {};window.PLOTLYENV.BASE_URL=\"https://plot.ly\";Plotly.newPlot(\"95065347-8c65-4f90-ad2f-637a9119bb51\", [{\"type\": \"scatter\", \"x\": [\"related\", \"aid_related\", \"weather_related\", \"earthquake\", \"request\", \"direct_report\", \"storm\", \"other_aid\", \"hospitals\", \"food\", \"medical_help\", \"floods\", \"water\", \"buildings\", \"death\", \"infrastructure_related\", \"shelter\", \"refugees\", \"other_infrastructure\", \"medical_products\", \"money\", \"other_weather\", \"cold\", \"offer\", \"fire\", \"military\", \"child_alone\", \"shops\", \"aid_centers\", \"missing_people\", \"clothing\", \"tools\", \"electricity\", \"security\", \"transport\", \"search_and_rescue\"], \"y\": [0.9113770026363821, 0.20952023988005997, 0.17809734513274336, 0.15422077922077923, 0.07117750439367311, 0.07009345794392523, 0.04013377926421405, 0.017584994138335287, 0.013888888888888888, 0.013774104683195593, 0.013806706114398421, 0.013084112149532711, 0.012135922330097087, 0.009433962264150943, 0.007168458781362007, 0.0072992700729927005, 0.006837606837606838, 0.004672897196261682, 0.0035971223021582736, 0.0030581039755351682, 0.0, 0.0, 0.0, 0.0, 0.0, 0.0, 0.0, 0.0, 0.0, 0.0, 0.0, 0.0, 0.0, 0.0, 0.0, 0.0], \"mode\": \"markers+lines\", \"marker\": {\"size\": 10, \"line\": {\"width\": 1, \"color\": \"rgb(0, 0, 0)\"}}}], {\"xaxis\": {\"title\": \"class\"}, \"yaxis\": {\"title\": \"recall\"}}, {\"showLink\": true, \"linkText\": \"Export to plot.ly\"})});</script>"
      ]
     },
     "metadata": {},
     "output_type": "display_data"
    }
   ],
   "source": [
    "#graph for recall_score\n",
    "x_title=\"class\"\n",
    "y_title=\"recall\"\n",
    "x=result_test.index\n",
    "y= result_test[\"recall_score\"]\n",
    "\n",
    "graph(x,y, x_title, y_title)"
   ]
  },
  {
   "cell_type": "code",
   "execution_count": 26,
   "metadata": {},
   "outputs": [
    {
     "data": {
      "application/vnd.plotly.v1+json": {
       "data": [
        {
         "marker": {
          "line": {
           "color": "rgb(0, 0, 0)",
           "width": 1
          },
          "size": 10
         },
         "mode": "markers+lines",
         "type": "scatter",
         "x": [
          "related",
          "aid_related",
          "weather_related",
          "earthquake",
          "request",
          "direct_report",
          "storm",
          "other_aid",
          "hospitals",
          "food",
          "medical_help",
          "floods",
          "water",
          "buildings",
          "death",
          "infrastructure_related",
          "shelter",
          "refugees",
          "other_infrastructure",
          "medical_products",
          "money",
          "other_weather",
          "cold",
          "offer",
          "fire",
          "military",
          "child_alone",
          "shops",
          "aid_centers",
          "missing_people",
          "clothing",
          "tools",
          "electricity",
          "security",
          "transport",
          "search_and_rescue"
         ],
         "y": [
          0.7666325486182191,
          0.4260670731707317,
          0.4901065449010654,
          0.6129032258064516,
          0.38207547169811323,
          0.36585365853658536,
          0.3582089552238806,
          0.14018691588785046,
          0.5,
          0.2,
          0.12962962962962962,
          0.2413793103448276,
          0.21739130434782608,
          0.13636363636363635,
          0.2,
          0.08108108108108109,
          0.09302325581395349,
          0.1111111111111111,
          0.07142857142857142,
          0.1,
          0,
          0,
          0,
          0,
          0,
          0,
          0,
          0,
          0,
          0,
          0,
          0,
          0,
          0,
          0,
          0
         ]
        }
       ],
       "layout": {
        "xaxis": {
         "title": "class"
        },
        "yaxis": {
         "title": "precision_score"
        }
       }
      },
      "text/html": [
       "<div id=\"6791b427-9ccd-4a84-9ac8-0512b750b14f\" style=\"height: 525px; width: 100%;\" class=\"plotly-graph-div\"></div><script type=\"text/javascript\">require([\"plotly\"], function(Plotly) { window.PLOTLYENV=window.PLOTLYENV || {};window.PLOTLYENV.BASE_URL=\"https://plot.ly\";Plotly.newPlot(\"6791b427-9ccd-4a84-9ac8-0512b750b14f\", [{\"type\": \"scatter\", \"x\": [\"related\", \"aid_related\", \"weather_related\", \"earthquake\", \"request\", \"direct_report\", \"storm\", \"other_aid\", \"hospitals\", \"food\", \"medical_help\", \"floods\", \"water\", \"buildings\", \"death\", \"infrastructure_related\", \"shelter\", \"refugees\", \"other_infrastructure\", \"medical_products\", \"money\", \"other_weather\", \"cold\", \"offer\", \"fire\", \"military\", \"child_alone\", \"shops\", \"aid_centers\", \"missing_people\", \"clothing\", \"tools\", \"electricity\", \"security\", \"transport\", \"search_and_rescue\"], \"y\": [0.7666325486182191, 0.4260670731707317, 0.4901065449010654, 0.6129032258064516, 0.38207547169811323, 0.36585365853658536, 0.3582089552238806, 0.14018691588785046, 0.5, 0.2, 0.12962962962962962, 0.2413793103448276, 0.21739130434782608, 0.13636363636363635, 0.2, 0.08108108108108109, 0.09302325581395349, 0.1111111111111111, 0.07142857142857142, 0.1, 0.0, 0.0, 0.0, 0.0, 0.0, 0.0, 0.0, 0.0, 0.0, 0.0, 0.0, 0.0, 0.0, 0.0, 0.0, 0.0], \"mode\": \"markers+lines\", \"marker\": {\"size\": 10, \"line\": {\"width\": 1, \"color\": \"rgb(0, 0, 0)\"}}}], {\"xaxis\": {\"title\": \"class\"}, \"yaxis\": {\"title\": \"precision_score\"}}, {\"showLink\": true, \"linkText\": \"Export to plot.ly\"})});</script>"
      ],
      "text/vnd.plotly.v1+html": [
       "<div id=\"6791b427-9ccd-4a84-9ac8-0512b750b14f\" style=\"height: 525px; width: 100%;\" class=\"plotly-graph-div\"></div><script type=\"text/javascript\">require([\"plotly\"], function(Plotly) { window.PLOTLYENV=window.PLOTLYENV || {};window.PLOTLYENV.BASE_URL=\"https://plot.ly\";Plotly.newPlot(\"6791b427-9ccd-4a84-9ac8-0512b750b14f\", [{\"type\": \"scatter\", \"x\": [\"related\", \"aid_related\", \"weather_related\", \"earthquake\", \"request\", \"direct_report\", \"storm\", \"other_aid\", \"hospitals\", \"food\", \"medical_help\", \"floods\", \"water\", \"buildings\", \"death\", \"infrastructure_related\", \"shelter\", \"refugees\", \"other_infrastructure\", \"medical_products\", \"money\", \"other_weather\", \"cold\", \"offer\", \"fire\", \"military\", \"child_alone\", \"shops\", \"aid_centers\", \"missing_people\", \"clothing\", \"tools\", \"electricity\", \"security\", \"transport\", \"search_and_rescue\"], \"y\": [0.7666325486182191, 0.4260670731707317, 0.4901065449010654, 0.6129032258064516, 0.38207547169811323, 0.36585365853658536, 0.3582089552238806, 0.14018691588785046, 0.5, 0.2, 0.12962962962962962, 0.2413793103448276, 0.21739130434782608, 0.13636363636363635, 0.2, 0.08108108108108109, 0.09302325581395349, 0.1111111111111111, 0.07142857142857142, 0.1, 0.0, 0.0, 0.0, 0.0, 0.0, 0.0, 0.0, 0.0, 0.0, 0.0, 0.0, 0.0, 0.0, 0.0, 0.0, 0.0], \"mode\": \"markers+lines\", \"marker\": {\"size\": 10, \"line\": {\"width\": 1, \"color\": \"rgb(0, 0, 0)\"}}}], {\"xaxis\": {\"title\": \"class\"}, \"yaxis\": {\"title\": \"precision_score\"}}, {\"showLink\": true, \"linkText\": \"Export to plot.ly\"})});</script>"
      ]
     },
     "metadata": {},
     "output_type": "display_data"
    }
   ],
   "source": [
    "#graph for precision score\n",
    "x_title=\"class\"\n",
    "y_title=\"precision_score\"\n",
    "x=result_test.index\n",
    "y= result_test[\"precision_score\"]\n",
    "\n",
    "graph(x,y, x_title, y_title)\n"
   ]
  },
  {
   "cell_type": "code",
   "execution_count": 27,
   "metadata": {},
   "outputs": [],
   "source": [
    "#concat f1 score, recall and precision dataset (train_result)\n",
    "result_train = pd.concat([f1_df_train, recall_df_train, precision_df_train], axis=1, sort=False)"
   ]
  },
  {
   "cell_type": "code",
   "execution_count": 28,
   "metadata": {},
   "outputs": [
    {
     "data": {
      "text/html": [
       "<div>\n",
       "<style scoped>\n",
       "    .dataframe tbody tr th:only-of-type {\n",
       "        vertical-align: middle;\n",
       "    }\n",
       "\n",
       "    .dataframe tbody tr th {\n",
       "        vertical-align: top;\n",
       "    }\n",
       "\n",
       "    .dataframe thead th {\n",
       "        text-align: right;\n",
       "    }\n",
       "</style>\n",
       "<table border=\"1\" class=\"dataframe\">\n",
       "  <thead>\n",
       "    <tr style=\"text-align: right;\">\n",
       "      <th></th>\n",
       "      <th>f1_score</th>\n",
       "      <th>recall_score</th>\n",
       "      <th>precision_score</th>\n",
       "    </tr>\n",
       "  </thead>\n",
       "  <tbody>\n",
       "    <tr>\n",
       "      <th>related</th>\n",
       "      <td>0.990153</td>\n",
       "      <td>0.997404</td>\n",
       "      <td>1.0</td>\n",
       "    </tr>\n",
       "    <tr>\n",
       "      <th>aid_related</th>\n",
       "      <td>0.963518</td>\n",
       "      <td>0.933728</td>\n",
       "      <td>1.0</td>\n",
       "    </tr>\n",
       "    <tr>\n",
       "      <th>weather_related</th>\n",
       "      <td>0.938776</td>\n",
       "      <td>0.887541</td>\n",
       "      <td>1.0</td>\n",
       "    </tr>\n",
       "    <tr>\n",
       "      <th>direct_report</th>\n",
       "      <td>0.919593</td>\n",
       "      <td>0.855467</td>\n",
       "      <td>1.0</td>\n",
       "    </tr>\n",
       "    <tr>\n",
       "      <th>request</th>\n",
       "      <td>0.918557</td>\n",
       "      <td>0.852469</td>\n",
       "      <td>1.0</td>\n",
       "    </tr>\n",
       "    <tr>\n",
       "      <th>hospitals</th>\n",
       "      <td>0.888298</td>\n",
       "      <td>0.799043</td>\n",
       "      <td>1.0</td>\n",
       "    </tr>\n",
       "    <tr>\n",
       "      <th>earthquake</th>\n",
       "      <td>0.884697</td>\n",
       "      <td>0.796712</td>\n",
       "      <td>1.0</td>\n",
       "    </tr>\n",
       "    <tr>\n",
       "      <th>storm</th>\n",
       "      <td>0.883283</td>\n",
       "      <td>0.791826</td>\n",
       "      <td>1.0</td>\n",
       "    </tr>\n",
       "    <tr>\n",
       "      <th>floods</th>\n",
       "      <td>0.874214</td>\n",
       "      <td>0.777019</td>\n",
       "      <td>1.0</td>\n",
       "    </tr>\n",
       "    <tr>\n",
       "      <th>other_weather</th>\n",
       "      <td>0.873333</td>\n",
       "      <td>0.775148</td>\n",
       "      <td>1.0</td>\n",
       "    </tr>\n",
       "    <tr>\n",
       "      <th>other_infrastructure</th>\n",
       "      <td>0.872327</td>\n",
       "      <td>0.776240</td>\n",
       "      <td>1.0</td>\n",
       "    </tr>\n",
       "    <tr>\n",
       "      <th>other_aid</th>\n",
       "      <td>0.871469</td>\n",
       "      <td>0.773717</td>\n",
       "      <td>1.0</td>\n",
       "    </tr>\n",
       "    <tr>\n",
       "      <th>food</th>\n",
       "      <td>0.870241</td>\n",
       "      <td>0.770642</td>\n",
       "      <td>1.0</td>\n",
       "    </tr>\n",
       "    <tr>\n",
       "      <th>offer</th>\n",
       "      <td>0.868421</td>\n",
       "      <td>0.767442</td>\n",
       "      <td>1.0</td>\n",
       "    </tr>\n",
       "    <tr>\n",
       "      <th>shelter</th>\n",
       "      <td>0.865098</td>\n",
       "      <td>0.763158</td>\n",
       "      <td>1.0</td>\n",
       "    </tr>\n",
       "    <tr>\n",
       "      <th>death</th>\n",
       "      <td>0.865000</td>\n",
       "      <td>0.762955</td>\n",
       "      <td>1.0</td>\n",
       "    </tr>\n",
       "    <tr>\n",
       "      <th>infrastructure_related</th>\n",
       "      <td>0.864219</td>\n",
       "      <td>0.760903</td>\n",
       "      <td>1.0</td>\n",
       "    </tr>\n",
       "    <tr>\n",
       "      <th>tools</th>\n",
       "      <td>0.864078</td>\n",
       "      <td>0.760684</td>\n",
       "      <td>1.0</td>\n",
       "    </tr>\n",
       "    <tr>\n",
       "      <th>missing_people</th>\n",
       "      <td>0.862434</td>\n",
       "      <td>0.758140</td>\n",
       "      <td>1.0</td>\n",
       "    </tr>\n",
       "    <tr>\n",
       "      <th>aid_centers</th>\n",
       "      <td>0.852941</td>\n",
       "      <td>0.743590</td>\n",
       "      <td>1.0</td>\n",
       "    </tr>\n",
       "    <tr>\n",
       "      <th>money</th>\n",
       "      <td>0.852753</td>\n",
       "      <td>0.743304</td>\n",
       "      <td>1.0</td>\n",
       "    </tr>\n",
       "    <tr>\n",
       "      <th>medical_help</th>\n",
       "      <td>0.852110</td>\n",
       "      <td>0.742327</td>\n",
       "      <td>1.0</td>\n",
       "    </tr>\n",
       "    <tr>\n",
       "      <th>transport</th>\n",
       "      <td>0.847880</td>\n",
       "      <td>0.735931</td>\n",
       "      <td>1.0</td>\n",
       "    </tr>\n",
       "    <tr>\n",
       "      <th>refugees</th>\n",
       "      <td>0.847100</td>\n",
       "      <td>0.735878</td>\n",
       "      <td>1.0</td>\n",
       "    </tr>\n",
       "    <tr>\n",
       "      <th>military</th>\n",
       "      <td>0.846356</td>\n",
       "      <td>0.733638</td>\n",
       "      <td>1.0</td>\n",
       "    </tr>\n",
       "    <tr>\n",
       "      <th>water</th>\n",
       "      <td>0.842837</td>\n",
       "      <td>0.731295</td>\n",
       "      <td>1.0</td>\n",
       "    </tr>\n",
       "    <tr>\n",
       "      <th>medical_products</th>\n",
       "      <td>0.838209</td>\n",
       "      <td>0.721480</td>\n",
       "      <td>1.0</td>\n",
       "    </tr>\n",
       "    <tr>\n",
       "      <th>buildings</th>\n",
       "      <td>0.836699</td>\n",
       "      <td>0.719960</td>\n",
       "      <td>1.0</td>\n",
       "    </tr>\n",
       "    <tr>\n",
       "      <th>clothing</th>\n",
       "      <td>0.833333</td>\n",
       "      <td>0.718954</td>\n",
       "      <td>1.0</td>\n",
       "    </tr>\n",
       "    <tr>\n",
       "      <th>electricity</th>\n",
       "      <td>0.833091</td>\n",
       "      <td>0.715711</td>\n",
       "      <td>1.0</td>\n",
       "    </tr>\n",
       "    <tr>\n",
       "      <th>search_and_rescue</th>\n",
       "      <td>0.832589</td>\n",
       "      <td>0.713193</td>\n",
       "      <td>1.0</td>\n",
       "    </tr>\n",
       "    <tr>\n",
       "      <th>cold</th>\n",
       "      <td>0.831804</td>\n",
       "      <td>0.712042</td>\n",
       "      <td>1.0</td>\n",
       "    </tr>\n",
       "    <tr>\n",
       "      <th>fire</th>\n",
       "      <td>0.831099</td>\n",
       "      <td>0.711009</td>\n",
       "      <td>1.0</td>\n",
       "    </tr>\n",
       "    <tr>\n",
       "      <th>shops</th>\n",
       "      <td>0.823529</td>\n",
       "      <td>0.700000</td>\n",
       "      <td>1.0</td>\n",
       "    </tr>\n",
       "    <tr>\n",
       "      <th>security</th>\n",
       "      <td>0.813793</td>\n",
       "      <td>0.686047</td>\n",
       "      <td>1.0</td>\n",
       "    </tr>\n",
       "    <tr>\n",
       "      <th>child_alone</th>\n",
       "      <td>0.000000</td>\n",
       "      <td>0.000000</td>\n",
       "      <td>0.0</td>\n",
       "    </tr>\n",
       "  </tbody>\n",
       "</table>\n",
       "</div>"
      ],
      "text/plain": [
       "                        f1_score  recall_score  precision_score\n",
       "related                 0.990153      0.997404              1.0\n",
       "aid_related             0.963518      0.933728              1.0\n",
       "weather_related         0.938776      0.887541              1.0\n",
       "direct_report           0.919593      0.855467              1.0\n",
       "request                 0.918557      0.852469              1.0\n",
       "hospitals               0.888298      0.799043              1.0\n",
       "earthquake              0.884697      0.796712              1.0\n",
       "storm                   0.883283      0.791826              1.0\n",
       "floods                  0.874214      0.777019              1.0\n",
       "other_weather           0.873333      0.775148              1.0\n",
       "other_infrastructure    0.872327      0.776240              1.0\n",
       "other_aid               0.871469      0.773717              1.0\n",
       "food                    0.870241      0.770642              1.0\n",
       "offer                   0.868421      0.767442              1.0\n",
       "shelter                 0.865098      0.763158              1.0\n",
       "death                   0.865000      0.762955              1.0\n",
       "infrastructure_related  0.864219      0.760903              1.0\n",
       "tools                   0.864078      0.760684              1.0\n",
       "missing_people          0.862434      0.758140              1.0\n",
       "aid_centers             0.852941      0.743590              1.0\n",
       "money                   0.852753      0.743304              1.0\n",
       "medical_help            0.852110      0.742327              1.0\n",
       "transport               0.847880      0.735931              1.0\n",
       "refugees                0.847100      0.735878              1.0\n",
       "military                0.846356      0.733638              1.0\n",
       "water                   0.842837      0.731295              1.0\n",
       "medical_products        0.838209      0.721480              1.0\n",
       "buildings               0.836699      0.719960              1.0\n",
       "clothing                0.833333      0.718954              1.0\n",
       "electricity             0.833091      0.715711              1.0\n",
       "search_and_rescue       0.832589      0.713193              1.0\n",
       "cold                    0.831804      0.712042              1.0\n",
       "fire                    0.831099      0.711009              1.0\n",
       "shops                   0.823529      0.700000              1.0\n",
       "security                0.813793      0.686047              1.0\n",
       "child_alone             0.000000      0.000000              0.0"
      ]
     },
     "execution_count": 28,
     "metadata": {},
     "output_type": "execute_result"
    }
   ],
   "source": [
    "result_train"
   ]
  },
  {
   "cell_type": "code",
   "execution_count": 29,
   "metadata": {},
   "outputs": [],
   "source": [
    "def evaluation(model, y_test, X_test, column_names):\n",
    "    \n",
    "    \"\"\"\n",
    "    Calculate model's score; accuracy, precision, recall and f1 score\n",
    "    \n",
    "    Parameters\n",
    "    model: determine model and model's parameters\n",
    "    y_test: test set/categories\n",
    "    X_test: test_set/messages-text\n",
    "    column_names: categories names\n",
    "    \n",
    "    Returns\n",
    "    df_score: dataframe/evaluation metrics\n",
    " \n",
    "    \"\"\"\n",
    "    #create empty list\n",
    "    score = []\n",
    "    #find prediction results based on X_test set\n",
    "    y_pred = np.array(model.predict(X_test))\n",
    "    \n",
    "    \n",
    "    #find scores for each columns and append to list \n",
    "    for i in range(len(column_names)):\n",
    "        accuracy = accuracy_score(y_test.iloc[:, i], y_pred[:, i])\n",
    "        precision = precision_score(y_test.iloc[:, i], y_pred[:, i])\n",
    "        recall = recall_score(y_test.iloc[:, i], y_pred[:, i])\n",
    "        f1 = f1_score(y_test.iloc[:, i], y_pred[:, i])\n",
    "        \n",
    "        score.append([accuracy, precision, recall, f1])\n",
    "    \n",
    "    # Create dataframe \n",
    "    score = np.array(score)\n",
    "    df_score = pd.DataFrame(data = score, index = column_names, columns = ['Accuracy', 'Precision', 'Recall', 'F1'])\n",
    "    \n",
    "    return print(df_score)"
   ]
  },
  {
   "cell_type": "code",
   "execution_count": 30,
   "metadata": {},
   "outputs": [
    {
     "data": {
      "text/plain": [
       "array(['related', 'request', 'offer', 'aid_related', 'medical_help',\n",
       "       'medical_products', 'search_and_rescue', 'security', 'military',\n",
       "       'child_alone', 'water', 'food', 'shelter', 'clothing', 'money',\n",
       "       'missing_people', 'refugees', 'death', 'other_aid',\n",
       "       'infrastructure_related', 'transport', 'buildings', 'electricity',\n",
       "       'tools', 'hospitals', 'shops', 'aid_centers',\n",
       "       'other_infrastructure', 'weather_related', 'floods', 'storm',\n",
       "       'fire', 'earthquake', 'cold', 'other_weather', 'direct_report'], dtype=object)"
      ]
     },
     "execution_count": 30,
     "metadata": {},
     "output_type": "execute_result"
    }
   ],
   "source": [
    "#check prediction result\n",
    "y_pred = pipeline.predict(X_test)\n",
    "y_pred= np.array(y_pred)\n",
    "\n",
    "#get columns names\n",
    "column_names = Y.columns\n",
    "Y.columns.values"
   ]
  },
  {
   "cell_type": "code",
   "execution_count": 31,
   "metadata": {},
   "outputs": [
    {
     "name": "stderr",
     "output_type": "stream",
     "text": [
      "/opt/conda/lib/python3.6/site-packages/sklearn/metrics/classification.py:1135: UndefinedMetricWarning:\n",
      "\n",
      "Precision is ill-defined and being set to 0.0 due to no predicted samples.\n",
      "\n",
      "/opt/conda/lib/python3.6/site-packages/sklearn/metrics/classification.py:1135: UndefinedMetricWarning:\n",
      "\n",
      "F-score is ill-defined and being set to 0.0 due to no predicted samples.\n",
      "\n"
     ]
    },
    {
     "name": "stdout",
     "output_type": "stream",
     "text": [
      "                        Accuracy  Precision    Recall        F1\n",
      "related                 0.717512   0.766276  0.902251  0.828723\n",
      "request                 0.813825   0.341880  0.070299  0.116618\n",
      "offer                   0.995084   0.000000  0.000000  0.000000\n",
      "aid_related             0.566667   0.446089  0.237256  0.309763\n",
      "medical_help            0.915361   0.092593  0.009862  0.017825\n",
      "medical_products        0.947312   0.000000  0.000000  0.000000\n",
      "search_and_rescue       0.968664   0.000000  0.000000  0.000000\n",
      "security                0.980799   0.000000  0.000000  0.000000\n",
      "military                0.969124   0.000000  0.000000  0.000000\n",
      "child_alone             1.000000   0.000000  0.000000  0.000000\n",
      "water                   0.933180   0.103448  0.007282  0.013605\n",
      "food                    0.882949   0.178571  0.013774  0.025575\n",
      "shelter                 0.903840   0.081633  0.006838  0.012618\n",
      "clothing                0.985714   0.000000  0.000000  0.000000\n",
      "money                   0.976344   0.000000  0.000000  0.000000\n",
      "missing_people          0.986636   0.000000  0.000000  0.000000\n",
      "refugees                0.966513   0.000000  0.000000  0.000000\n",
      "death                   0.954378   0.000000  0.000000  0.000000\n",
      "other_aid               0.858986   0.088608  0.008206  0.015021\n",
      "infrastructure_related  0.932412   0.060606  0.004866  0.009009\n",
      "transport               0.955146   0.040000  0.003717  0.006803\n",
      "buildings               0.948541   0.130435  0.009434  0.017595\n",
      "electricity             0.980031   0.000000  0.000000  0.000000\n",
      "tools                   0.993702   0.000000  0.000000  0.000000\n",
      "hospitals               0.988940   0.000000  0.000000  0.000000\n",
      "shops                   0.995545   0.000000  0.000000  0.000000\n",
      "aid_centers             0.988786   0.000000  0.000000  0.000000\n",
      "other_infrastructure    0.954839   0.100000  0.007194  0.013423\n",
      "weather_related         0.717665   0.475962  0.164270  0.244243\n",
      "floods                  0.914900   0.148148  0.007477  0.014235\n",
      "storm                   0.905837   0.397260  0.048495  0.086438\n",
      "fire                    0.990476   0.000000  0.000000  0.000000\n",
      "earthquake              0.911214   0.623377  0.155844  0.249351\n",
      "cold                    0.978495   0.000000  0.000000  0.000000\n",
      "other_weather           0.944240   0.058824  0.002874  0.005479\n",
      "direct_report           0.796006   0.408333  0.076324  0.128609\n"
     ]
    }
   ],
   "source": [
    "#get evaluation metrics results\n",
    "#accuracy, precision, recall and f1 score for each columns\n",
    "df_score=evaluation(pipeline,y_test, X_test, column_names)"
   ]
  },
  {
   "cell_type": "markdown",
   "metadata": {},
   "source": [
    "   "
   ]
  },
  {
   "cell_type": "markdown",
   "metadata": {},
   "source": [
    "  "
   ]
  },
  {
   "cell_type": "markdown",
   "metadata": {},
   "source": [
    "### 6. Improve your model\n",
    "Use grid search to find better parameters. "
   ]
  },
  {
   "cell_type": "code",
   "execution_count": 93,
   "metadata": {},
   "outputs": [],
   "source": [
    "from sklearn.model_selection import GridSearchCV\n",
    "parameters = {'clf__estimator__max_leaf_nodes': [3, 5],'clf__estimator__min_samples_leaf': [8, 10]}\n",
    "#create grid search\n",
    "grid_search = GridSearchCV(pipeline, parameters)\n",
    "grid_search.fit(X_train, y_train)\n",
    "\n",
    "\n",
    "#find best model's parameters\n",
    "grid_search.best_params_\n",
    "best_grid = grid_search.best_estimator_\n",
    "\n",
    "Source:\n",
    "#https://towardsdatascience.com/hyperparameter-tuning-the-random-forest-in-python-using-scikit-learn-28d2aa77dd74"
   ]
  },
  {
   "cell_type": "code",
   "execution_count": 94,
   "metadata": {},
   "outputs": [
    {
     "data": {
      "text/plain": [
       "['clf',\n",
       " 'clf__estimator',\n",
       " 'clf__estimator__bootstrap',\n",
       " 'clf__estimator__class_weight',\n",
       " 'clf__estimator__criterion',\n",
       " 'clf__estimator__max_depth',\n",
       " 'clf__estimator__max_features',\n",
       " 'clf__estimator__max_leaf_nodes',\n",
       " 'clf__estimator__min_impurity_decrease',\n",
       " 'clf__estimator__min_impurity_split',\n",
       " 'clf__estimator__min_samples_leaf',\n",
       " 'clf__estimator__min_samples_split',\n",
       " 'clf__estimator__min_weight_fraction_leaf',\n",
       " 'clf__estimator__n_estimators',\n",
       " 'clf__estimator__n_jobs',\n",
       " 'clf__estimator__oob_score',\n",
       " 'clf__estimator__random_state',\n",
       " 'clf__estimator__verbose',\n",
       " 'clf__estimator__warm_start',\n",
       " 'clf__n_jobs',\n",
       " 'memory',\n",
       " 'steps',\n",
       " 'tfidf',\n",
       " 'tfidf__analyzer',\n",
       " 'tfidf__binary',\n",
       " 'tfidf__decode_error',\n",
       " 'tfidf__dtype',\n",
       " 'tfidf__encoding',\n",
       " 'tfidf__input',\n",
       " 'tfidf__lowercase',\n",
       " 'tfidf__max_df',\n",
       " 'tfidf__max_features',\n",
       " 'tfidf__min_df',\n",
       " 'tfidf__ngram_range',\n",
       " 'tfidf__norm',\n",
       " 'tfidf__preprocessor',\n",
       " 'tfidf__smooth_idf',\n",
       " 'tfidf__stop_words',\n",
       " 'tfidf__strip_accents',\n",
       " 'tfidf__sublinear_tf',\n",
       " 'tfidf__token_pattern',\n",
       " 'tfidf__tokenizer',\n",
       " 'tfidf__use_idf',\n",
       " 'tfidf__vocabulary']"
      ]
     },
     "execution_count": 94,
     "metadata": {},
     "output_type": "execute_result"
    }
   ],
   "source": [
    "#get parameters\n",
    "sorted(pipeline.get_params().keys())"
   ]
  },
  {
   "cell_type": "code",
   "execution_count": 115,
   "metadata": {},
   "outputs": [
    {
     "data": {
      "text/plain": [
       "Pipeline(memory=None,\n",
       "     steps=[('tfidf', TfidfVectorizer(analyzer='word', binary=False, decode_error='strict',\n",
       "        dtype=<class 'numpy.int64'>, encoding='utf-8', input='content',\n",
       "        lowercase=True, max_df=1.0, max_features=None, min_df=1,\n",
       "        ngram_range=(1, 1), norm='l2', preprocessor=None, smooth_idf=True,\n",
       " ...oob_score=False, random_state=None, verbose=0,\n",
       "            warm_start=False),\n",
       "           n_jobs=1))])"
      ]
     },
     "execution_count": 115,
     "metadata": {},
     "output_type": "execute_result"
    }
   ],
   "source": [
    "#details for best model's parameters\n",
    "best_grid"
   ]
  },
  {
   "cell_type": "code",
   "execution_count": 96,
   "metadata": {},
   "outputs": [
    {
     "data": {
      "text/plain": [
       "0.19784946236559139"
      ]
     },
     "execution_count": 96,
     "metadata": {},
     "output_type": "execute_result"
    }
   ],
   "source": [
    "#score for best model's parameters\n",
    "best_grid.score(X_test, y_test)"
   ]
  },
  {
   "cell_type": "markdown",
   "metadata": {},
   "source": [
    "According to result, firstly model's score is 0.15. After grid search  model's score increases 0.20. "
   ]
  },
  {
   "cell_type": "markdown",
   "metadata": {},
   "source": [
    "### 7. Test your model\n",
    "Show the accuracy, precision, and recall of the tuned model.  \n",
    "\n",
    "Since this project focuses on code quality, process, and  pipelines, there is no minimum performance metric needed to pass. However, make sure to fine tune your models for accuracy, precision and recall to make your project stand out - especially for your portfolio!"
   ]
  },
  {
   "cell_type": "code",
   "execution_count": 100,
   "metadata": {},
   "outputs": [
    {
     "name": "stderr",
     "output_type": "stream",
     "text": [
      "/opt/conda/lib/python3.6/site-packages/sklearn/metrics/classification.py:1135: UndefinedMetricWarning:\n",
      "\n",
      "Precision is ill-defined and being set to 0.0 due to no predicted samples.\n",
      "\n",
      "/opt/conda/lib/python3.6/site-packages/sklearn/metrics/classification.py:1135: UndefinedMetricWarning:\n",
      "\n",
      "F-score is ill-defined and being set to 0.0 due to no predicted samples.\n",
      "\n"
     ]
    },
    {
     "name": "stdout",
     "output_type": "stream",
     "text": [
      "                        Accuracy  Precision  Recall        F1\n",
      "related                 0.757450    0.75745     1.0  0.861988\n",
      "request                 0.825192    0.00000     0.0  0.000000\n",
      "offer                   0.995084    0.00000     0.0  0.000000\n",
      "aid_related             0.590169    0.00000     0.0  0.000000\n",
      "medical_help            0.922120    0.00000     0.0  0.000000\n",
      "medical_products        0.949770    0.00000     0.0  0.000000\n",
      "search_and_rescue       0.969278    0.00000     0.0  0.000000\n",
      "security                0.980799    0.00000     0.0  0.000000\n",
      "military                0.969739    0.00000     0.0  0.000000\n",
      "child_alone             1.000000    0.00000     0.0  0.000000\n",
      "water                   0.936713    0.00000     0.0  0.000000\n",
      "food                    0.888479    0.00000     0.0  0.000000\n",
      "shelter                 0.910138    0.00000     0.0  0.000000\n",
      "clothing                0.985714    0.00000     0.0  0.000000\n",
      "money                   0.976498    0.00000     0.0  0.000000\n",
      "missing_people          0.987250    0.00000     0.0  0.000000\n",
      "refugees                0.967127    0.00000     0.0  0.000000\n",
      "death                   0.957143    0.00000     0.0  0.000000\n",
      "other_aid               0.868971    0.00000     0.0  0.000000\n",
      "infrastructure_related  0.936866    0.00000     0.0  0.000000\n",
      "transport               0.958679    0.00000     0.0  0.000000\n",
      "buildings               0.951152    0.00000     0.0  0.000000\n",
      "electricity             0.980338    0.00000     0.0  0.000000\n",
      "tools                   0.993702    0.00000     0.0  0.000000\n",
      "hospitals               0.988940    0.00000     0.0  0.000000\n",
      "shops                   0.995545    0.00000     0.0  0.000000\n",
      "aid_centers             0.988940    0.00000     0.0  0.000000\n",
      "other_infrastructure    0.957296    0.00000     0.0  0.000000\n",
      "weather_related         0.722273    0.00000     0.0  0.000000\n",
      "floods                  0.917819    0.00000     0.0  0.000000\n",
      "storm                   0.908141    0.00000     0.0  0.000000\n",
      "fire                    0.990476    0.00000     0.0  0.000000\n",
      "earthquake              0.905376    0.00000     0.0  0.000000\n",
      "cold                    0.978802    0.00000     0.0  0.000000\n",
      "other_weather           0.946544    0.00000     0.0  0.000000\n",
      "direct_report           0.802765    0.00000     0.0  0.000000\n"
     ]
    }
   ],
   "source": [
    "#find classification report for each columns\n",
    "evaluation(best_grid,y_test, X_test, column_names)"
   ]
  },
  {
   "cell_type": "markdown",
   "metadata": {},
   "source": [
    "### 8. Try improving your model further. Here are a few ideas:\n",
    "* try other machine learning algorithms\n",
    "* add other features besides the TF-IDF"
   ]
  },
  {
   "cell_type": "code",
   "execution_count": 108,
   "metadata": {},
   "outputs": [],
   "source": [
    "from sklearn.ensemble import AdaBoostClassifier\n",
    "\n",
    "#create new pipeline\n",
    "pipeline_new = Pipeline([  \n",
    "                    ('tfidf', TfidfVectorizer(tokenizer=tokenize)),\n",
    "                    ('clf', MultiOutputClassifier(AdaBoostClassifier()))\n",
    "                    ])"
   ]
  },
  {
   "cell_type": "code",
   "execution_count": 109,
   "metadata": {},
   "outputs": [
    {
     "data": {
      "text/plain": [
       "Pipeline(memory=None,\n",
       "     steps=[('tfidf', TfidfVectorizer(analyzer='word', binary=False, decode_error='strict',\n",
       "        dtype=<class 'numpy.int64'>, encoding='utf-8', input='content',\n",
       "        lowercase=True, max_df=1.0, max_features=None, min_df=1,\n",
       "        ngram_range=(1, 1), norm='l2', preprocessor=None, smooth_idf=True,\n",
       " ...mator=None,\n",
       "          learning_rate=1.0, n_estimators=50, random_state=None),\n",
       "           n_jobs=1))])"
      ]
     },
     "execution_count": 109,
     "metadata": {},
     "output_type": "execute_result"
    }
   ],
   "source": [
    "#fitting\n",
    "pipeline_new.fit(X_train, y_train)"
   ]
  },
  {
   "cell_type": "code",
   "execution_count": 110,
   "metadata": {},
   "outputs": [],
   "source": [
    "#predict result base on X_test\n",
    "y_pred_test_1= pipeline_new.predict(X_test)"
   ]
  },
  {
   "cell_type": "code",
   "execution_count": 111,
   "metadata": {},
   "outputs": [],
   "source": [
    "#predict result base on X_train \n",
    "y_pred_train_1= pipeline_new.predict(X_train)"
   ]
  },
  {
   "cell_type": "code",
   "execution_count": 112,
   "metadata": {},
   "outputs": [
    {
     "data": {
      "text/plain": [
       "0.158678955453149"
      ]
     },
     "execution_count": 112,
     "metadata": {},
     "output_type": "execute_result"
    }
   ],
   "source": [
    "#calculate test score \n",
    "pipeline_new.score(X_test, y_test)"
   ]
  },
  {
   "cell_type": "code",
   "execution_count": 113,
   "metadata": {},
   "outputs": [
    {
     "data": {
      "text/plain": [
       "0.17686517486814482"
      ]
     },
     "execution_count": 113,
     "metadata": {},
     "output_type": "execute_result"
    }
   ],
   "source": [
    "#calculate train score\n",
    "pipeline_new.score(X_train,y_train)"
   ]
  },
  {
   "cell_type": "code",
   "execution_count": 114,
   "metadata": {},
   "outputs": [
    {
     "name": "stderr",
     "output_type": "stream",
     "text": [
      "/opt/conda/lib/python3.6/site-packages/sklearn/metrics/classification.py:1135: UndefinedMetricWarning:\n",
      "\n",
      "Precision is ill-defined and being set to 0.0 due to no predicted samples.\n",
      "\n",
      "/opt/conda/lib/python3.6/site-packages/sklearn/metrics/classification.py:1135: UndefinedMetricWarning:\n",
      "\n",
      "F-score is ill-defined and being set to 0.0 due to no predicted samples.\n",
      "\n"
     ]
    },
    {
     "name": "stdout",
     "output_type": "stream",
     "text": [
      "                        Accuracy  Precision    Recall        F1\n",
      "related                 0.753917   0.762250  0.981140  0.857954\n",
      "request                 0.822581   0.473684  0.134446  0.209446\n",
      "offer                   0.995084   0.000000  0.000000  0.000000\n",
      "aid_related             0.581874   0.470779  0.163043  0.242205\n",
      "medical_help            0.920891   0.100000  0.001972  0.003868\n",
      "medical_products        0.949462   0.000000  0.000000  0.000000\n",
      "search_and_rescue       0.968664   0.000000  0.000000  0.000000\n",
      "security                0.980031   0.222222  0.016000  0.029851\n",
      "military                0.967896   0.000000  0.000000  0.000000\n",
      "child_alone             1.000000   0.000000  0.000000  0.000000\n",
      "water                   0.935945   0.000000  0.000000  0.000000\n",
      "food                    0.885100   0.000000  0.000000  0.000000\n",
      "shelter                 0.908756   0.090909  0.001709  0.003356\n",
      "clothing                0.984332   0.090909  0.010753  0.019231\n",
      "money                   0.976190   0.250000  0.006536  0.012739\n",
      "missing_people          0.986790   0.000000  0.000000  0.000000\n",
      "refugees                0.966513   0.000000  0.000000  0.000000\n",
      "death                   0.956528   0.000000  0.000000  0.000000\n",
      "other_aid               0.866667   0.105263  0.002345  0.004587\n",
      "infrastructure_related  0.936406   0.000000  0.000000  0.000000\n",
      "transport               0.956989   0.076923  0.003717  0.007092\n",
      "buildings               0.949155   0.066667  0.003145  0.006006\n",
      "electricity             0.979724   0.000000  0.000000  0.000000\n",
      "tools                   0.993241   0.000000  0.000000  0.000000\n",
      "hospitals               0.987558   0.090909  0.013889  0.024096\n",
      "shops                   0.994931   0.000000  0.000000  0.000000\n",
      "aid_centers             0.988018   0.000000  0.000000  0.000000\n",
      "other_infrastructure    0.956528   0.000000  0.000000  0.000000\n",
      "weather_related         0.739785   0.591935  0.202987  0.302306\n",
      "floods                  0.915207   0.052632  0.001869  0.003610\n",
      "storm                   0.907834   0.490196  0.083612  0.142857\n",
      "fire                    0.990015   0.000000  0.000000  0.000000\n",
      "earthquake              0.911828   0.643836  0.152597  0.246719\n",
      "cold                    0.976805   0.000000  0.000000  0.000000\n",
      "other_weather           0.945776   0.142857  0.002874  0.005634\n",
      "direct_report           0.796928   0.430147  0.091121  0.150386\n"
     ]
    }
   ],
   "source": [
    "#find classification report for each columns\n",
    "evaluation(pipeline_new,y_test, X_test, column_names)"
   ]
  },
  {
   "cell_type": "markdown",
   "metadata": {},
   "source": [
    "  "
   ]
  },
  {
   "cell_type": "markdown",
   "metadata": {},
   "source": [
    "### 9. Export your model as a pickle file"
   ]
  },
  {
   "cell_type": "code",
   "execution_count": null,
   "metadata": {},
   "outputs": [],
   "source": [
    "import pickle\n",
    "filename = 'clf.sav'\n",
    "pickle.dump(model, open(filename, 'wb'))"
   ]
  },
  {
   "cell_type": "markdown",
   "metadata": {},
   "source": [
    "### 10. Use this notebook to complete `train.py`\n",
    "Use the template file attached in the Resources folder to write a script that runs the steps above to create a database and export a model based on a new dataset specified by the user."
   ]
  },
  {
   "cell_type": "markdown",
   "metadata": {},
   "source": [
    "   "
   ]
  }
 ],
 "metadata": {
  "kernelspec": {
   "display_name": "Python 3",
   "language": "python",
   "name": "python3"
  },
  "language_info": {
   "codemirror_mode": {
    "name": "ipython",
    "version": 3
   },
   "file_extension": ".py",
   "mimetype": "text/x-python",
   "name": "python",
   "nbconvert_exporter": "python",
   "pygments_lexer": "ipython3",
   "version": "3.6.3"
  }
 },
 "nbformat": 4,
 "nbformat_minor": 2
}
